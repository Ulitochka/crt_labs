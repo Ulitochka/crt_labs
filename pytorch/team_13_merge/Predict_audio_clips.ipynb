{
 "cells": [
  {
   "cell_type": "code",
   "execution_count": 102,
   "metadata": {},
   "outputs": [],
   "source": [
    "import pickle\n",
    "import pandas as pd\n",
    "import numpy as np\n",
    "from tqdm import tqdm_notebook"
   ]
  },
  {
   "cell_type": "code",
   "execution_count": 103,
   "metadata": {},
   "outputs": [],
   "source": [
    "actual = pd.read_pickle('actual.pkl')\n",
    "# predictions = pd.read_pickle('predictions.pkl')\n",
    "\n",
    "file_paths = actual['file_path']\n",
    "arousal = actual['arousal']\n",
    "valence = actual['valence']"
   ]
  },
  {
   "cell_type": "code",
   "execution_count": 108,
   "metadata": {},
   "outputs": [],
   "source": [
    "data = pd.read_table('ready_models_video/results/AEmotion_Ivan_result_valid.txt', delim_whitespace=True, names = ['file_path', 'valence', 'arousal'])"
   ]
  },
  {
   "cell_type": "code",
   "execution_count": 109,
   "metadata": {},
   "outputs": [],
   "source": [
    "# model = 'Audio_M_1'\n",
    "# f = open('ready_models_video/results/AEmotion_Ivan_result_test.txt', 'rb')\n",
    "# data = pickle.load(f)\n",
    "# f.close()"
   ]
  },
  {
   "cell_type": "code",
   "execution_count": 110,
   "metadata": {},
   "outputs": [],
   "source": [
    "# pred = pd.DataFrame(data, columns=['valence_{}'.format(model), 'arousal_{}'.format(model)])\n",
    "# pred = pd.concat([file_paths, pred], axis = 1)"
   ]
  },
  {
   "cell_type": "code",
   "execution_count": 111,
   "metadata": {
    "scrolled": false
   },
   "outputs": [],
   "source": [
    "# predictions.merge(pred, on = 'file_path') #add inplace"
   ]
  },
  {
   "cell_type": "code",
   "execution_count": 83,
   "metadata": {},
   "outputs": [],
   "source": [
    "# def get_clip(path):\n",
    "#     file = path.split('\\\\')[:-1]\n",
    "#     return '\\\\'.join(file)"
   ]
  },
  {
   "cell_type": "code",
   "execution_count": 113,
   "metadata": {},
   "outputs": [],
   "source": [
    "# file_paths = file_paths.apply(get_clip).unique()\n",
    "\n",
    "# valence_df = pd.DataFrame(data[:,0], columns = ['valence'])\n",
    "\n",
    "# files = pd.DataFrame(file_paths, columns = ['file_path'])\n",
    "\n",
    "# arousal_df = pd.DataFrame(data[:,1], columns = ['arousal'])"
   ]
  },
  {
   "cell_type": "code",
   "execution_count": 85,
   "metadata": {},
   "outputs": [],
   "source": [
    "# pred_final = pd.concat([files, valence_df, arousal_df], axis = 1)"
   ]
  },
  {
   "cell_type": "code",
   "execution_count": 115,
   "metadata": {},
   "outputs": [],
   "source": [
    "data.to_pickle('audio_Ivan.pkl')"
   ]
  },
  {
   "cell_type": "code",
   "execution_count": 86,
   "metadata": {},
   "outputs": [],
   "source": [
    "actual['file_path'] = actual['file_path'].apply(get_clip)\n",
    "\n",
    "clip_actual_valence = actual.groupby('file_path', sort = False)['valence'].mean()\n",
    "valence_df = pd.DataFrame(clip_actual_valence.values, columns = ['valence'])\n",
    "\n",
    "files = pd.DataFrame(list(actual.groupby('file_path', sort = False).groups.keys()), columns = ['file_path'])\n",
    "\n",
    "clip_actual_arousal = actual.groupby('file_path', sort = False)['arousal'].mean()\n",
    "arousal_df = pd.DataFrame(clip_actual_arousal.values, columns = ['arousal'])"
   ]
  },
  {
   "cell_type": "code",
   "execution_count": 87,
   "metadata": {},
   "outputs": [],
   "source": [
    "actual_final = pd.concat([files, valence_df, arousal_df], axis = 1)"
   ]
  },
  {
   "cell_type": "code",
   "execution_count": 528,
   "metadata": {},
   "outputs": [],
   "source": [
    "# actual_final.to_pickle('actual_mean.pkl')\n",
    "# pred_final.to_pickle('pred_mean.pkl')"
   ]
  },
  {
   "cell_type": "code",
   "execution_count": 63,
   "metadata": {},
   "outputs": [],
   "source": [
    "def error(actual, predict, class_num):\n",
    "    pred = predict[predict.columns[class_num]].values\n",
    "    act = actual[actual.columns[class_num]].values\n",
    "    all = len(act)\n",
    "    pos = 0\n",
    "    for i in range(len(act)):\n",
    "        a = act[i]\n",
    "        p = pred[i]\n",
    "        if abs(a - p) < 0.1:\n",
    "            pos += 1\n",
    "    return pos/all"
   ]
  },
  {
   "cell_type": "code",
   "execution_count": 89,
   "metadata": {},
   "outputs": [],
   "source": [
    "fin = actual_final.merge(pred_final, on = 'file_path')\n",
    "actual = fin[['valence_x', 'arousal_x']]\n",
    "pred = fin[['valence_x', 'arousal_x']]"
   ]
  },
  {
   "cell_type": "code",
   "execution_count": 98,
   "metadata": {},
   "outputs": [],
   "source": [
    "# print('valence error by frames = {}'.format(error(actual, pred, 1)))\n",
    "# print('arousal error by frames = {}'.format(error(actual, pred, 2)))"
   ]
  },
  {
   "cell_type": "code",
   "execution_count": 99,
   "metadata": {},
   "outputs": [
    {
     "name": "stdout",
     "output_type": "stream",
     "text": [
      "valence error by frames = 0.24778761061946902\n",
      "arousal error by frames = 0.20353982300884957\n"
     ]
    }
   ],
   "source": [
    "print('valence error by frames = {}'.format(error(actual_final, pred_final, 1)))\n",
    "print('arousal error by frames = {}'.format(error(actual_final, pred_final, 2)))"
   ]
  },
  {
   "cell_type": "code",
   "execution_count": 101,
   "metadata": {},
   "outputs": [],
   "source": [
    "pred_final.to_pickle('mean_pred_audio.pkl')"
   ]
  },
  {
   "cell_type": "code",
   "execution_count": 497,
   "metadata": {},
   "outputs": [],
   "source": [
    "# from scipy.stats import pearsonr\n",
    "# import torch\n",
    "# import torch.nn.functional as F\n",
    "\n",
    "# pred_V = pred[pred.columns[1]].values.reshape(len(pred.values[:,1]),1)\n",
    "# pred_A = pred[pred.columns[2]].values.reshape(len(pred.values[:,2]),1)\n",
    "# predict = np.hstack([pred_V, pred_A])\n",
    "\n",
    "# actual_V = actual[actual.columns[1]].values.reshape(len(actual.values[:,1]),1)\n",
    "# actual_A = actual[actual.columns[2]].values.reshape(len(actual.values[:,2]),1)\n",
    "# actual = np.hstack([actual_V, actual_A])\n",
    "\n",
    "# result = []\n",
    "# for k, name in enumerate(['Valence', 'Arousal']):\n",
    "#     target = torch.from_numpy(actual[:,k]).double()\n",
    "#     pred = torch.from_numpy(predict[:,k]).double()\n",
    "#     test_acc = torch.nonzero(F.relu(-(target - pred).abs_() + 0.1)).size(0)\n",
    "#     test_acc *= 100 / actual.shape[0]\n",
    "\n",
    "#     result.append(test_acc)\n",
    "#     print('   accuracy per frames: %0.3f%%' % test_acc)"
   ]
  }
 ],
 "metadata": {
  "kernelspec": {
   "display_name": "Python 3",
   "language": "python",
   "name": "python3"
  },
  "language_info": {
   "codemirror_mode": {
    "name": "ipython",
    "version": 3
   },
   "file_extension": ".py",
   "mimetype": "text/x-python",
   "name": "python",
   "nbconvert_exporter": "python",
   "pygments_lexer": "ipython3",
   "version": "3.6.6"
  }
 },
 "nbformat": 4,
 "nbformat_minor": 2
}
