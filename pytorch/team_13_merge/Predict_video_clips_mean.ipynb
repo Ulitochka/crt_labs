{
 "cells": [
  {
   "cell_type": "code",
   "execution_count": 584,
   "metadata": {},
   "outputs": [],
   "source": [
    "import pickle\n",
    "import pandas as pd\n",
    "import numpy as np\n",
    "from tqdm import tqdm_notebook"
   ]
  },
  {
   "cell_type": "code",
   "execution_count": 585,
   "metadata": {},
   "outputs": [],
   "source": [
    "actual = pd.read_pickle('actual.pkl')\n",
    "predictions = pd.read_pickle('predictions.pkl')\n",
    "\n",
    "file_paths = actual['file_path']\n",
    "arousal = actual['arousal']\n",
    "valence = actual['valence']"
   ]
  },
  {
   "cell_type": "code",
   "execution_count": 586,
   "metadata": {},
   "outputs": [],
   "source": [
    "model = 'Video_M_1'\n",
    "f = open('ready_models_video/results/video_predict.pkl', 'rb')\n",
    "data = pickle.load(f)\n",
    "f.close()"
   ]
  },
  {
   "cell_type": "code",
   "execution_count": 567,
   "metadata": {},
   "outputs": [],
   "source": [
    "pred = pd.DataFrame(data, columns=['valence_{}'.format(model), 'arousal_{}'.format(model)])\n",
    "pred = pd.concat([file_paths, pred], axis = 1)"
   ]
  },
  {
   "cell_type": "code",
   "execution_count": 568,
   "metadata": {
    "scrolled": false
   },
   "outputs": [],
   "source": [
    "# predictions.merge(pred, on = 'file_path') #add inplace"
   ]
  },
  {
   "cell_type": "code",
   "execution_count": 569,
   "metadata": {},
   "outputs": [],
   "source": [
    "def get_clip(path):\n",
    "    file = path.split('\\\\')[:-1]\n",
    "    return '\\\\'.join(file)"
   ]
  },
  {
   "cell_type": "code",
   "execution_count": 570,
   "metadata": {},
   "outputs": [],
   "source": [
    "pred['file_path'] = pred['file_path'].apply(get_clip)\n",
    "\n",
    "clip_pred_valence = pred.groupby('file_path', sort = False)['valence_{}'.format(model)].mean()\n",
    "valence_df = pd.DataFrame(clip_pred_valence.values, columns = ['valence'])\n",
    "\n",
    "files = pd.DataFrame(list(pred.groupby('file_path', sort = False).groups.keys()), columns = ['file_path'])\n",
    "\n",
    "clip_pred_arousal = pred.groupby('file_path', sort = False)['arousal_{}'.format(model)].mean()\n",
    "arousal_df = pd.DataFrame(clip_pred_arousal.values, columns = ['arousal'])"
   ]
  },
  {
   "cell_type": "code",
   "execution_count": 571,
   "metadata": {},
   "outputs": [],
   "source": [
    "pred_final = pd.concat([files, valence_df, arousal_df], axis = 1)"
   ]
  },
  {
   "cell_type": "code",
   "execution_count": 572,
   "metadata": {},
   "outputs": [],
   "source": [
    "actual['file_path'] = actual['file_path'].apply(get_clip)\n",
    "\n",
    "clip_actual_valence = actual.groupby('file_path', sort = False)['valence'].mean()\n",
    "valence_df = pd.DataFrame(clip_actual_valence.values, columns = ['valence'])\n",
    "\n",
    "files = pd.DataFrame(list(actual.groupby('file_path', sort = False).groups.keys()), columns = ['file_path'])\n",
    "\n",
    "clip_actual_arousal = actual.groupby('file_path', sort = False)['arousal'].mean()\n",
    "arousal_df = pd.DataFrame(clip_actual_arousal.values, columns = ['arousal'])"
   ]
  },
  {
   "cell_type": "code",
   "execution_count": 573,
   "metadata": {},
   "outputs": [],
   "source": [
    "actual_final = pd.concat([files, valence_df, arousal_df], axis = 1)"
   ]
  },
  {
   "cell_type": "code",
   "execution_count": 574,
   "metadata": {},
   "outputs": [],
   "source": [
    "# actual_final.to_pickle('actual_mean.pkl')\n",
    "# pred_final.to_pickle('pred_mean.pkl')"
   ]
  },
  {
   "cell_type": "code",
   "execution_count": 575,
   "metadata": {},
   "outputs": [],
   "source": [
    "def error(actual, predict, class_num):\n",
    "    pred = predict[predict.columns[class_num]].values\n",
    "    act = actual[actual.columns[class_num]].values\n",
    "    all = len(act)\n",
    "    pos = 0\n",
    "    for i in range(len(act)):\n",
    "        a = act[i]\n",
    "        p = pred[i]\n",
    "        if abs(a - p) < 0.1:\n",
    "            pos += 1\n",
    "    return pos/all"
   ]
  },
  {
   "cell_type": "code",
   "execution_count": 576,
   "metadata": {},
   "outputs": [],
   "source": [
    "# fin = actual.merge(pred, on = 'file_path')\n",
    "\n",
    "# actual = fin[['valence', 'arousal']]\n",
    "\n",
    "# pred = fin[['valence_Video_M_1', 'arousal_Video_M_1']]"
   ]
  },
  {
   "cell_type": "code",
   "execution_count": 553,
   "metadata": {},
   "outputs": [],
   "source": [
    "# print('valence error by frames = {}'.format(error(actual, pred, 1)))\n",
    "# print('arousal error by frames = {}'.format(error(actual, pred, 2)))"
   ]
  },
  {
   "cell_type": "code",
   "execution_count": 556,
   "metadata": {},
   "outputs": [],
   "source": [
    "fin = actual_final.merge(pred_final, on = 'file_path')\n",
    "\n",
    "actual = fin[['valence_x', 'arousal_x']]\n",
    "\n",
    "pred = fin[['valence_x', 'arousal_x']]"
   ]
  },
  {
   "cell_type": "code",
   "execution_count": 562,
   "metadata": {},
   "outputs": [
    {
     "name": "stdout",
     "output_type": "stream",
     "text": [
      "valence error by frames = 0.26991150442477874\n",
      "arousal error by frames = 0.2168141592920354\n"
     ]
    }
   ],
   "source": [
    "print('valence error by frames = {}'.format(error(actual_final, pred_final, 1)))\n",
    "print('arousal error by frames = {}'.format(error(actual_final, pred_final, 2)))"
   ]
  },
  {
   "cell_type": "code",
   "execution_count": 583,
   "metadata": {},
   "outputs": [],
   "source": [
    "pred_final.to_pickle('mean_pred_video.pkl')"
   ]
  },
  {
   "cell_type": "code",
   "execution_count": 497,
   "metadata": {},
   "outputs": [],
   "source": [
    "# from scipy.stats import pearsonr\n",
    "# import torch\n",
    "# import torch.nn.functional as F"
   ]
  },
  {
   "cell_type": "code",
   "execution_count": 498,
   "metadata": {},
   "outputs": [],
   "source": [
    "# pred_V = pred[pred.columns[1]].values.reshape(len(pred.values[:,1]),1)\n",
    "# pred_A = pred[pred.columns[2]].values.reshape(len(pred.values[:,2]),1)\n",
    "# predict = np.hstack([pred_V, pred_A])"
   ]
  },
  {
   "cell_type": "code",
   "execution_count": 499,
   "metadata": {},
   "outputs": [],
   "source": [
    "# actual_V = actual[actual.columns[1]].values.reshape(len(actual.values[:,1]),1)\n",
    "# actual_A = actual[actual.columns[2]].values.reshape(len(actual.values[:,2]),1)\n",
    "# actual = np.hstack([actual_V, actual_A])"
   ]
  },
  {
   "cell_type": "code",
   "execution_count": 500,
   "metadata": {},
   "outputs": [
    {
     "name": "stdout",
     "output_type": "stream",
     "text": [
      "   accuracy per frames: 27.707%\n",
      "   accuracy per frames: 20.877%\n"
     ]
    }
   ],
   "source": [
    "# result = []\n",
    "# for k, name in enumerate(['Valence', 'Arousal']):\n",
    "#     target = torch.from_numpy(actual[:,k]).double()\n",
    "#     pred = torch.from_numpy(predict[:,k]).double()\n",
    "#     test_acc = torch.nonzero(F.relu(-(target - pred).abs_() + 0.1)).size(0)\n",
    "#     test_acc *= 100 / actual.shape[0]\n",
    "\n",
    "#     result.append(test_acc)\n",
    "#     print('   accuracy per frames: %0.3f%%' % test_acc)"
   ]
  }
 ],
 "metadata": {
  "kernelspec": {
   "display_name": "Python 3",
   "language": "python",
   "name": "python3"
  },
  "language_info": {
   "codemirror_mode": {
    "name": "ipython",
    "version": 3
   },
   "file_extension": ".py",
   "mimetype": "text/x-python",
   "name": "python",
   "nbconvert_exporter": "python",
   "pygments_lexer": "ipython3",
   "version": "3.6.6"
  }
 },
 "nbformat": 4,
 "nbformat_minor": 2
}
